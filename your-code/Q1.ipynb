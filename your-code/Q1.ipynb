{
 "cells": [
  {
   "cell_type": "markdown",
   "metadata": {},
   "source": [
    "In the cell below, create a Python function that wraps your previous solution for the Bag of Words lab.\n",
    "\n",
    "Requirements:\n",
    "\n",
    "1. Your function should accept the following parameters:\n",
    "    * `docs` [REQUIRED] - array of document paths.\n",
    "    * `stop_words` [OPTIONAL] - array of stop words. The default value is an empty array.\n",
    "\n",
    "1. Your function should return a Python object that contains the following:\n",
    "    * `bag_of_words` - array of strings of normalized unique words in the corpus.\n",
    "    * `term_freq` - array of the term-frequency vectors."
   ]
  },
  {
   "cell_type": "code",
   "execution_count": 10,
   "metadata": {
    "ExecuteTime": {
     "end_time": "2020-07-13T18:17:29.522691Z",
     "start_time": "2020-07-13T18:17:25.610714Z"
    }
   },
   "outputs": [],
   "source": [
    "import nltk\n",
    "from nltk.corpus import stopwords\n",
    "\n",
    "# Define function\n",
    "def get_bow_from_docs(docs, stop_words=[]):\n",
    "    \n",
    "    # In the function, first define the variables you will use such as `corpus`, `bag_of_words`, and `term_freq`.\n",
    "    \n",
    "    corpus = ['Ironhack is cool.', 'I love Ironhack.', 'I am a student at Ironhack.']\n",
    "    bag_of_words = ['ironhack', 'is', 'cool', 'i', 'love', 'am', 'a', 'student', 'at']\n",
    "    term_freq = [[1, 1, 1, 0, 0, 0, 0, 0, 0], [1, 0, 0, 1, 1, 0, 0, 0, 0], [1, 0, 0, 1, 0, 1, 1, 1, 1]]\n",
    "    \n",
    "    \"\"\"\n",
    "    Loop `docs` and read the content of each doc into a string in `corpus`.\n",
    "    Remember to convert the doc content to lowercases and remove punctuation.\n",
    "    \"\"\"\n",
    "    for doc in docs:         \n",
    "      with open(doc, 'r') as file:\n",
    "           reader=file.read()\n",
    "           corpus.append(reader)\n",
    "    \n",
    "    for i in range(len(corpus)):\n",
    "        corpus[i] = corpus[i].lower().replace(\".\",\"\").split()\n",
    "    \n",
    "    \"\"\"\n",
    "    Loop `corpus`. Append the terms in each doc into the `bag_of_words` array. The terms in `bag_of_words` \n",
    "    should be unique which means before adding each term you need to check if it's already added to the array.\n",
    "    In addition, check if each term is in the `stop_words` array. Only append the term to `bag_of_words`\n",
    "    if it is not a stop word.\n",
    "    \"\"\"\n",
    "\n",
    "    for i in corpus:\n",
    "        for j in i:\n",
    "            if j not in bag_of_words:\n",
    "                bag_of_words.append(j) \n",
    "\n",
    "    \n",
    "    \"\"\"\n",
    "    Loop `corpus` again. For each doc string, count the number of occurrences of each term in `bag_of_words`. \n",
    "    Create an array for each doc's term frequency and append it to `term_freq`.\n",
    "    \"\"\"\n",
    "    term_freq = []\n",
    "\n",
    "    for i in range(len(corpus)):\n",
    "        term_freq.append([])\n",
    "        for j in bag_of_words:\n",
    "            if j in corpus[i]:\n",
    "                term_freq[i].append(1)\n",
    "            else:\n",
    "                term_freq[i].append(0)\n",
    "    \n",
    "    # Now return your output as an object\n",
    "    return {\n",
    "        \"bag_of_words\": bag_of_words,\n",
    "        \"term_freq\": term_freq\n",
    "    }\n",
    "    "
   ]
  },
  {
   "cell_type": "markdown",
   "metadata": {},
   "source": [
    "Test your function without stop words. You should see the output like below:\n",
    "\n",
    "```{'bag_of_words': ['ironhack', 'is', 'cool', 'i', 'love', 'am', 'a', 'student', 'at'], 'term_freq': [[1, 1, 1, 0, 0, 0, 0, 0, 0], [1, 0, 0, 1, 1, 0, 0, 0, 0], [1, 0, 0, 1, 0, 1, 1, 1, 1]]}```"
   ]
  },
  {
   "cell_type": "code",
   "execution_count": 13,
   "metadata": {
    "ExecuteTime": {
     "end_time": "2020-07-13T18:24:26.430093Z",
     "start_time": "2020-07-13T18:24:26.425921Z"
    }
   },
   "outputs": [
    {
     "name": "stdout",
     "output_type": "stream",
     "text": [
      "{'bag_of_words': ['ironhack', 'is', 'cool', 'i', 'love', 'am', 'a', 'student', 'at'], 'term_freq': [[1, 1, 1, 0, 0, 0, 0, 0, 0], [1, 0, 0, 1, 1, 0, 0, 0, 0], [1, 0, 0, 1, 0, 1, 1, 1, 1], [1, 1, 1, 0, 0, 0, 0, 0, 0], [1, 0, 0, 1, 1, 0, 0, 0, 0], [1, 0, 0, 1, 0, 1, 1, 1, 1]]}\n"
     ]
    }
   ],
   "source": [
    "# Define doc paths array\n",
    "docs = ['/Users/blancurri/Desktop/Formació/IronHack/Labs/09-lab-string-operations/your-code/doc1.txt', '/Users/blancurri/Desktop/Formació/IronHack/Labs/09-lab-string-operations/your-code/doc2.txt', '/Users/blancurri/Desktop/Formació/IronHack/Labs/09-lab-string-operations/your-code/doc3.txt']\n",
    "\n",
    "# Obtain BoW from your function\n",
    "bow = get_bow_from_docs(docs)\n",
    "\n",
    "# Print BoW\n",
    "print(bow)"
   ]
  },
  {
   "cell_type": "markdown",
   "metadata": {},
   "source": [
    "If your attempt above is successful, nice work done!\n",
    "\n",
    "Now test your function again with the stop words. In the previous lab we defined the stop words in a large array. In this lab, we'll import the stop words from Scikit-Learn."
   ]
  },
  {
   "cell_type": "code",
   "execution_count": 14,
   "metadata": {
    "ExecuteTime": {
     "end_time": "2020-07-13T18:24:42.657378Z",
     "start_time": "2020-07-13T18:24:42.654628Z"
    }
   },
   "outputs": [
    {
     "name": "stdout",
     "output_type": "stream",
     "text": [
      "frozenset({'with', 'who', 'de', 'nor', 'etc', 'them', 'here', 'further', 'back', 'ten', 'yourself', 'now', 'yourselves', 'be', 'six', 'system', 'though', 'one', 'thereby', 'and', 'an', 'namely', 'been', 'many', 'nowhere', 'would', 'that', 'full', 'will', 'four', 'there', 'themselves', 'cry', 'everyone', 'see', 'con', 'sincere', 'some', 'whereupon', 'she', 'amount', 'nevertheless', 'show', 'under', 'eleven', 'meanwhile', 'mostly', 'your', 'please', 'yet', 'might', 'you', 'anyway', 'then', 'its', 'herself', 'several', 'thick', 'how', 'either', 'were', 'without', 'somehow', 'may', 'all', 'toward', 'sometime', 'none', 'name', 'where', 'anyhow', 'too', 'rather', 'wherever', 'hereby', 'few', 'hereafter', 'bottom', 'less', 'becomes', 'call', 'why', 'hence', 'those', 'give', 'if', 'hers', 'done', 'for', 'together', 'any', 'since', 'amongst', 'anyone', 'this', 'due', 'get', 'per', 'amoungst', 'hasnt', 'whole', 'but', 'couldnt', 'top', 'could', 'describe', 'on', 'must', 'found', 'whence', 'bill', 'third', 'at', 'except', 'same', 'or', 'no', 'when', 'such', 'above', 'cannot', 'thereafter', 'co', 'thence', 'two', 'wherein', 'a', 'alone', 'my', 'being', 'fifty', 'elsewhere', 'therefore', 'very', 'also', 'anything', 'again', 'everything', 'next', 'not', 'thereupon', 'everywhere', 'whenever', 'beyond', 'throughout', 'while', 'thru', 'below', 're', 'by', 'own', 'over', 'each', 'has', 'neither', 'take', 'these', 'around', 'between', 'sixty', 'until', 'after', 'else', 'whoever', 'least', 'us', 'still', 'via', 'himself', 'his', 'so', 'keep', 'through', 'somewhere', 'which', 'even', 'they', 'mine', 'onto', 'before', 'down', 'front', 'whose', 'find', 'perhaps', 'should', 'fire', 'more', 'during', 'in', 'against', 'anywhere', 'beforehand', 'almost', 'both', 'whereas', 'nobody', 'go', 'first', 'seems', 'someone', 'part', 'besides', 'because', 'i', 'yours', 'becoming', 'ltd', 'ours', 'was', 'is', 'empty', 'indeed', 'fifteen', 'had', 'sometimes', 'interest', 'three', 'whereby', 'along', 'cant', 'always', 'noone', 'latterly', 'nine', 'enough', 'moreover', 'about', 'thin', 'therein', 'as', 'another', 'once', 'towards', 'serious', 'herein', 'un', 'eight', 'from', 'ever', 'than', 'hereupon', 'beside', 'our', 'mill', 'already', 'thus', 'her', 'he', 'afterwards', 'am', 'fill', 'within', 'their', 'last', 'much', 'seeming', 'other', 'never', 'the', 'to', 'behind', 'have', 'forty', 'out', 'whatever', 'move', 'detail', 'twenty', 'of', 'are', 'seem', 'latter', 'eg', 'ie', 'whether', 'only', 'made', 'what', 'myself', 'seemed', 'nothing', 'others', 'it', 'hundred', 'something', 'we', 'became', 'most', 'although', 'him', 'former', 'often', 'whither', 'otherwise', 'side', 'upon', 'among', 'whereafter', 'itself', 'every', 'off', 'up', 'inc', 'me', 'well', 'can', 'into', 'put', 'across', 'twelve', 'whom', 'however', 'formerly', 'become', 'ourselves', 'do', 'five'})\n"
     ]
    }
   ],
   "source": [
    "from sklearn.feature_extraction import stop_words\n",
    "print(stop_words.ENGLISH_STOP_WORDS)"
   ]
  },
  {
   "cell_type": "markdown",
   "metadata": {},
   "source": [
    "You should have seen a large list of words that looks like:\n",
    "\n",
    "```frozenset({'across', 'mine', 'cannot', ...})```\n",
    "\n",
    "`frozenset` is a type of Python object that is immutable. In this lab you can use it just like an array without conversion."
   ]
  },
  {
   "cell_type": "markdown",
   "metadata": {},
   "source": [
    "Next, test your function with supplying `stop_words.ENGLISH_STOP_WORDS` as the second parameter."
   ]
  },
  {
   "cell_type": "code",
   "execution_count": 17,
   "metadata": {
    "ExecuteTime": {
     "end_time": "2020-07-13T18:25:35.260128Z",
     "start_time": "2020-07-13T18:25:35.256432Z"
    }
   },
   "outputs": [
    {
     "name": "stdout",
     "output_type": "stream",
     "text": [
      "{'bag_of_words': ['ironhack', 'is', 'cool', 'i', 'love', 'am', 'a', 'student', 'at'], 'term_freq': [[1, 1, 1, 0, 0, 0, 0, 0, 0], [1, 0, 0, 1, 1, 0, 0, 0, 0], [1, 0, 0, 1, 0, 1, 1, 1, 1], [1, 1, 1, 0, 0, 0, 0, 0, 0], [1, 0, 0, 1, 1, 0, 0, 0, 0], [1, 0, 0, 1, 0, 1, 1, 1, 1]]}\n"
     ]
    }
   ],
   "source": [
    "bow = get_bow_from_docs(docs, stop_words.ENGLISH_STOP_WORDS)\n",
    "\n",
    "print(bow)"
   ]
  },
  {
   "cell_type": "markdown",
   "metadata": {},
   "source": [
    "You should have seen:\n",
    "\n",
    "```{'bag_of_words': ['ironhack', 'cool', 'love', 'student'], 'term_freq': [[1, 1, 0, 0], [1, 0, 1, 0], [1, 0, 0, 1]]}```"
   ]
  },
  {
   "cell_type": "code",
   "execution_count": null,
   "metadata": {
    "collapsed": true
   },
   "outputs": [],
   "source": [
    "#por qué veo algunas palabras de más? Entiendo que en el original solo quedan 4 palabras en"
   ]
  }
 ],
 "metadata": {
  "kernelspec": {
   "display_name": "Python 3",
   "language": "python",
   "name": "python3"
  },
  "language_info": {
   "codemirror_mode": {
    "name": "ipython",
    "version": 3
   },
   "file_extension": ".py",
   "mimetype": "text/x-python",
   "name": "python",
   "nbconvert_exporter": "python",
   "pygments_lexer": "ipython3",
   "version": "3.7.6"
  },
  "toc": {
   "base_numbering": 1,
   "nav_menu": {},
   "number_sections": true,
   "sideBar": true,
   "skip_h1_title": false,
   "title_cell": "Table of Contents",
   "title_sidebar": "Contents",
   "toc_cell": false,
   "toc_position": {},
   "toc_section_display": true,
   "toc_window_display": false
  },
  "varInspector": {
   "cols": {
    "lenName": 16,
    "lenType": 16,
    "lenVar": 40
   },
   "kernels_config": {
    "python": {
     "delete_cmd_postfix": "",
     "delete_cmd_prefix": "del ",
     "library": "var_list.py",
     "varRefreshCmd": "print(var_dic_list())"
    },
    "r": {
     "delete_cmd_postfix": ") ",
     "delete_cmd_prefix": "rm(",
     "library": "var_list.r",
     "varRefreshCmd": "cat(var_dic_list()) "
    }
   },
   "types_to_exclude": [
    "module",
    "function",
    "builtin_function_or_method",
    "instance",
    "_Feature"
   ],
   "window_display": false
  }
 },
 "nbformat": 4,
 "nbformat_minor": 2
}
