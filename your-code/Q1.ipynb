{
 "cells": [
  {
   "cell_type": "markdown",
   "metadata": {},
   "source": [
    "In the cell below, create a Python function that wraps your previous solution for the Bag of Words lab.\n",
    "\n",
    "Requirements:\n",
    "\n",
    "1. Your function should accept the following parameters:\n",
    "    * `docs` [REQUIRED] - array of document paths.\n",
    "    * `stop_words` [OPTIONAL] - array of stop words. The default value is an empty array.\n",
    "\n",
    "1. Your function should return a Python object that contains the following:\n",
    "    * `bag_of_words` - array of strings of normalized unique words in the corpus.\n",
    "    * `term_freq` - array of the term-frequency vectors."
   ]
  },
  {
   "cell_type": "code",
   "execution_count": 20,
   "metadata": {},
   "outputs": [],
   "source": [
    "# Import required libraries\n",
    "from os import listdir\n",
    "from os.path import isfile, join\n",
    "# Define function\n",
    "def get_bow_from_docs(docs, stop_words=[]):\n",
    "    \n",
    "    # In the function, first define the variables you will use such as `corpus`, `bag_of_words`, and `term_freq`.\n",
    "    \n",
    "    corpus = []\n",
    "    bag_of_words = ''\n",
    "    term_freq = {}\n",
    "    \n",
    "    \"\"\"\n",
    "    Loop `docs` and read the content of each doc into a string in `corpus`.\n",
    "    Remember to convert the doc content to lowercases and remove punctuation.\n",
    "    \"\"\"\n",
    "    for doc in docs:\n",
    "        with open(doc, \"r\",encoding=\"utf8\") as file:\n",
    "            corpus.append(file.read().strip().lower().replace(',','').replace('.',''))\n",
    "    \n",
    "    \n",
    "    \"\"\"\n",
    "    Loop `corpus`. Append the terms in each doc into the `bag_of_words` array. The terms in `bag_of_words` \n",
    "    should be unique which means before adding each term you need to check if it's already added to the array.\n",
    "    In addition, check if each term is in the `stop_words` array. Only append the term to `bag_of_words`\n",
    "    if it is not a stop word.\n",
    "    \"\"\"\n",
    "    print(corpus)\n",
    "            \n",
    "            \n",
    "    \n",
    "    \n",
    "    \n",
    "    \"\"\"\n",
    "    Loop `corpus` again. For each doc string, count the number of occurrences of each term in `bag_of_words`. \n",
    "    Create an array for each doc's term frequency and append it to `term_freq`.\n",
    "    \"\"\"\n",
    "\n",
    "    \n",
    "    \n",
    "    # Now return your output as an object\n",
    "    return {\n",
    "        \"bag_of_words\": bag_of_words,\n",
    "        \"term_freq\": term_freq\n",
    "    }\n",
    "    get_bow_from_docs()"
   ]
  },
  {
   "cell_type": "markdown",
   "metadata": {},
   "source": [
    "Test your function without stop words. You should see the output like below:\n",
    "\n",
    "```{'bag_of_words': ['ironhack', 'is', 'cool', 'i', 'love', 'am', 'a', 'student', 'at'], 'term_freq': [[1, 1, 1, 0, 0, 0, 0, 0, 0], [1, 0, 0, 1, 1, 0, 0, 0, 0], [1, 0, 0, 1, 0, 1, 1, 1, 1]]}```"
   ]
  },
  {
   "cell_type": "code",
   "execution_count": 22,
   "metadata": {},
   "outputs": [
    {
     "name": "stdout",
     "output_type": "stream",
     "text": [
      "['<!doctype html>\\n<html lang=\"en\">\\n<head>\\n<title>lorem ipsum - all the facts - lipsum generator</title>\\n    <meta name=\"keywords\" content=\"lorem ipsum lipsum lorem ipsum text generate generator facts information what why where dummy text typesetting printing de finibus bonorum et malorum de finibus bonorum et malorum extremes of good and evil cicero latin garbled scrambled lorem ipsum dolor sit amet dolor sit amet consectetur adipiscing elit sed eiusmod tempor incididunt\" />\\n    <meta name=\"description\" content=\"reference site about lorem ipsum giving information on its origins as well as a random lipsum generator\" />\\n    <meta name=\"viewport\" content=\"width=device-width; initial-scale=10\">\\n    <meta http-equiv=\"content-type\" content=\"text/html; charset=utf-8\" />\\n    <script type=\"text/javascript\" src=\"//staticampservices/clients/streamamp/lipsumjs\"></script>\\n    <link rel=\"icon\" type=\"image/x-icon\" href=\"/faviconico\" />\\n    <link rel=\"stylesheet\" type=\"text/css\" href=\"/css/020617css\" />\\n</head>\\n<body>\\n<div id=\"outer\">\\n\\n<div class=\"banner\"><div id=\"div-gpt-ad-1456148316198-0\">\\n<script type=\"text/javascript\">googletagcmdpush(function() { googletagdisplay(\"div-gpt-ad-1456148316198-0\"); });</script>\\n</div></div>\\n\\n<div id=\"inner\">\\n\\n<div id=\"languages\"><a class=\"hy\" href=\"http://hylipsumcom/\">&#1344;&#1377;&#1397;&#1381;&#1408;&#1381;&#1398;</a> <a class=\"sq\" href=\"http://sqlipsumcom/\">shqip</a> <span class=\"ltr\" dir=\"ltr\"><a class=\"xx\" href=\"http://arlipsumcom/\"><img src=\"/images/argif\" width=\"18\" height=\"12\" alt=\"&#8235;&#1575;&#1604;&#1593;&#1585;&#1576;&#1610;&#1577;\" /></a><a class=\"xx\" href=\"http://arlipsumcom/\">&#8235;&#1575;&#1604;&#1593;&#1585;&#1576;&#1610;&#1577;</a></span>&nbsp;&nbsp; <a class=\"bg\" href=\"http://bglipsumcom/\">&#1041;&#1098;&#1083;&#1075;&#1072;&#1088;&#1089;&#1082;&#1080;</a> <a class=\"ca\" href=\"http://calipsumcom/\">catal&agrave;</a> <a class=\"cn\" href=\"http://cnlipsumcom/\">&#20013;&#25991;&#31616;&#20307;</a> <a class=\"hr\" href=\"http://hrlipsumcom/\">hrvatski</a> <a class=\"cs\" href=\"http://cslipsumcom/\">&#268;esky</a> <a class=\"da\" href=\"http://dalipsumcom/\">dansk</a> <a class=\"nl\" href=\"http://nllipsumcom/\">nederlands</a> <a class=\"en zz\" href=\"http://wwwlipsumcom/\">english</a> <a class=\"et\" href=\"http://etlipsumcom/\">eesti</a> <a class=\"ph\" href=\"http://phlipsumcom/\">filipino</a> <a class=\"fi\" href=\"http://filipsumcom/\">suomi</a> <a class=\"fr\" href=\"http://frlipsumcom/\">fran&ccedil;ais</a> <a class=\"ka\" href=\"http://kalipsumcom/\">&#4325;&#4304;&#4320;&#4311;&#4323;&#4314;&#4312;</a> <a class=\"de\" href=\"http://delipsumcom/\">deutsch</a> <a class=\"el\" href=\"http://ellipsumcom/\">&#917;&#955;&#955;&#951;&#957;&#953;&#954;&#940;</a> <span class=\"ltr\" dir=\"ltr\"><a class=\"xx\" href=\"http://helipsumcom/\"><img src=\"/images/hegif\" width=\"18\" height=\"12\" alt=\"&#8235;&#1506;&#1489;&#1512;&#1497;&#1514;\" /></a><a class=\"xx\" href=\"http://helipsumcom/\">&#8235;&#1506;&#1489;&#1512;&#1497;&#1514;</a></span>&nbsp;&nbsp; <a class=\"hi\" href=\"http://hilipsumcom/\">&#2361;&#2367;&#2344;&#2381;&#2342;&#2368;</a> <a class=\"hu\" href=\"http://hulipsumcom/\">magyar</a> <a class=\"id\" href=\"http://idlipsumcom/\">indonesia</a> <a class=\"it\" href=\"http://itlipsumcom/\">italiano</a> <a class=\"lv\" href=\"http://lvlipsumcom/\">latviski</a> <a class=\"lt\" href=\"http://ltlipsumcom/\">lietuvi&scaron;kai</a> <a class=\"mk\" href=\"http://mklipsumcom/\">&#1084;&#1072;&#1082;&#1077;&#1076;&#1086;&#1085;&#1089;&#1082;&#1080;</a> <a class=\"ms\" href=\"http://mslipsumcom/\">melayu</a> <a class=\"no\" href=\"http://nolipsumcom/\">norsk</a> <a class=\"pl\" href=\"http://pllipsumcom/\">polski</a> <a class=\"pt\" href=\"http://ptlipsumcom/\">portugu&ecirc;s</a> <a class=\"ro\" href=\"http://rolipsumcom/\">rom&acirc;na</a> <a class=\"ru\" href=\"http://rulipsumcom/\">pycc&#1082;&#1080;&#1081;</a> <a class=\"sr\" href=\"http://srlipsumcom/\">&#1057;&#1088;&#1087;&#1089;&#1082;&#1080;</a> <a class=\"sk\" href=\"http://sklipsumcom/\">sloven&#269;ina</a> <a class=\"sl\" href=\"http://sllipsumcom/\">sloven&#353;&#269;ina</a> <a class=\"es\" href=\"http://eslipsumcom/\">espa&ntilde;ol</a> <a class=\"sv\" href=\"http://svlipsumcom/\">svenska</a> <a class=\"th\" href=\"http://thlipsumcom/\">&#3652;&#3607;&#3618;</a> <a class=\"tr\" href=\"http://trlipsumcom/\">t&uuml;rk&ccedil;e</a> <a class=\"uk\" href=\"http://uklipsumcom/\">&#1059;&#1082;&#1088;&#1072;&#1111;&#1085;&#1089;&#1100;&#1082;&#1072;</a> <a class=\"vi\" href=\"http://vilipsumcom/\">ti&#7871;ng vi&#7879;t</a> </div>\\n\\n<h1>lorem ipsum</h1>\\n<h4>\"neque porro quisquam est qui dolorem ipsum quia dolor sit amet consectetur adipisci velit\"</h4>\\n<h5>\"there is no one who loves pain itself who seeks after it and wants to have it simply because it is pain\"</h5>\\n\\n\\n<hr />\\n\\n<div id=\"content\">\\n<div id=\"panes\"><div>\\n<h2>what is lorem ipsum?</h2>\\n<p><strong>lorem ipsum</strong> is simply dummy text of the printing and typesetting industry lorem ipsum has been the industry\\'s standard dummy text ever since the 1500s when an unknown printer took a galley of type and scrambled it to make a type specimen book it has survived not only five centuries but also the leap into electronic typesetting remaining essentially unchanged it was popularised in the 1960s with the release of letraset sheets containing lorem ipsum passages and more recently with desktop publishing software like aldus pagemaker including versions of lorem ipsum</p>\\n</div><div>\\n<h2>why do we use it?</h2>\\n<p>it is a long established fact that a reader will be distracted by the readable content of a page when looking at its layout the point of using lorem ipsum is that it has a more-or-less normal distribution of letters as opposed to using \\'content here content here\\' making it look like readable english many desktop publishing packages and web page editors now use lorem ipsum as their default model text and a search for \\'lorem ipsum\\' will uncover many web sites still in their infancy various versions have evolved over the years sometimes by accident sometimes on purpose (injected humour and the like)</p>\\n</div><br /><div>\\n<h2>where does it come from?</h2>\\n<p>contrary to popular belief lorem ipsum is not simply random text it has roots in a piece of classical latin literature from 45 bc making it over 2000 years old richard mcclintock a latin professor at hampden-sydney college in virginia looked up one of the more obscure latin words consectetur from a lorem ipsum passage and going through the cites of the word in classical literature discovered the undoubtable source lorem ipsum comes from sections 11032 and 11033 of \"de finibus bonorum et malorum\" (the extremes of good and evil) by cicero written in 45 bc this book is a treatise on the theory of ethics very popular during the renaissance the first line of lorem ipsum \"lorem ipsum dolor sit amet\" comes from a line in section 11032</p><p>the standard chunk of lorem ipsum used since the 1500s is reproduced below for those interested sections 11032 and 11033 from \"de finibus bonorum et malorum\" by cicero are also reproduced in their exact original form accompanied by english versions from the 1914 translation by h rackham</p>\\n</div><div>\\n<h2>where can i get some?</h2>\\n<p>there are many variations of passages of lorem ipsum available but the majority have suffered alteration in some form by injected humour or randomised words which don\\'t look even slightly believable if you are going to use a passage of lorem ipsum you need to be sure there isn\\'t anything embarrassing hidden in the middle of text all the lorem ipsum generators on the internet tend to repeat predefined chunks as necessary making this the first true generator on the internet it uses a dictionary of over 200 latin words combined with a handful of model sentence structures to generate lorem ipsum which looks reasonable the generated lorem ipsum is therefore always free from repetition injected humour or non-characteristic words etc</p>\\n<form method=\"post\" action=\"/feed/html\"><table style=\"width:100%\"><tr><td rowspan=\"2\"><input type=\"text\" name=\"amount\" value=\"5\" size=\"3\" id=\"amount\" /></td><td rowspan=\"2\"><table style=\"text-align:left\"><tr><td style=\"width:20px\"><input type=\"radio\" name=\"what\" value=\"paras\" id=\"paras\" checked=\"checked\" /></td><td><label for=\"paras\">paragraphs</label></td></tr><tr><td style=\"width:20px\"><input type=\"radio\" name=\"what\" value=\"words\" id=\"words\" /></td><td><label for=\"words\">words</label></td></tr><tr><td style=\"width:20px\"><input type=\"radio\" name=\"what\" value=\"bytes\" id=\"bytes\" /></td><td><label for=\"bytes\">bytes</label></td></tr><tr><td style=\"width:20px\"><input type=\"radio\" name=\"what\" value=\"lists\" id=\"lists\" /></td><td><label for=\"lists\">lists</label></td></tr></table></td><td style=\"width:20px\"><input type=\"checkbox\" name=\"start\" id=\"start\" value=\"yes\" checked=\"checked\" /></td><td style=\"text-align:left\"><label for=\"start\">start with \\'lorem<br />ipsum dolor sit amet\\'</label></td></tr><tr><td></td><td style=\"text-align:left\"><input type=\"submit\" name=\"generate\" id=\"generate\" value=\"generate lorem ipsum\" /></td></tr></table></form></div></div><hr /><div class=\"boxedtight\"><img src=\"/images/advertpng\" width=\"100%\" alt=\"advertise\" /></div>\\n<hr /><div class=\"boxed\" style=\"color:#ff0000;\"><strong>translations:</strong> can you help translate this site into a foreign language ? please email us with details if you can help</div>\\n\\n<hr /><div class=\"boxed\">there are now a set of mock banners available <a href=\"/banners\" class=\"lnk\">here</a> in three colours and in a range of standard banner sizes:<br /><a href=\"/banners\"><img src=\"/images/banners/black_234x60gif\" width=\"234\" height=\"60\" alt=\"banners\" /></a><a href=\"/banners\"><img src=\"/images/banners/grey_234x60gif\" width=\"234\" height=\"60\" alt=\"banners\" /></a><a href=\"/banners\"><img src=\"/images/banners/white_234x60gif\" width=\"234\" height=\"60\" alt=\"banners\" /></a></div>\\n\\n<hr /><div class=\"boxed\"><strong>donate:</strong> if you use this site regularly and would like to help keep the site on the internet please consider donating a small sum to help pay for the hosting and bandwidth bill there is no minimum donation any sum is appreciated - click <a target=\"_blank\" href=\"/donate\" class=\"lnk\">here</a> to donate using paypal thank you for your support</div>\\n\\n<hr /><div class=\"boxed\" id=\"packages\">\\n<a target=\"_blank\" rel=\"nofollow\" href=\"https://chromegooglecom/extensions/detail/jkkggolejkaoanbjnmkakgjcdcnpfkgi\">chrome</a>\\n<a target=\"_blank\" rel=\"nofollow\" href=\"https://addonsmozillaorg/en-us/firefox/addon/dummy-lipsum/\">firefox add-on</a>\\n<a target=\"_blank\" rel=\"nofollow\" href=\"https://githubcom/traviskaufman/node-lipsum\">nodejs</a>\\n<a target=\"_blank\" rel=\"nofollow\" href=\"http://ftpktugorkr/tex-archive/help/catalogue/entries/lipsumhtml\">tex package</a>\\n<a target=\"_blank\" rel=\"nofollow\" href=\"http://codegooglecom/p/pypsum/\">python interface</a>\\n<a target=\"_blank\" rel=\"nofollow\" href=\"http://gtklipsumsourceforgenet/\">gtk lipsum</a>\\n<a target=\"_blank\" rel=\"nofollow\" href=\"http://githubcom/gsavage/lorem_ipsum/tree/master\">rails</a>\\n<a target=\"_blank\" rel=\"nofollow\" href=\"https://githubcom/cerkit/loremipsum/\">net</a>\\n<a target=\"_blank\" rel=\"nofollow\" href=\"http://groovyconsoleappspotcom/script/64002\">groovy</a>\\n<a target=\"_blank\" rel=\"nofollow\" href=\"http://wwwlayerherocom/lorem-ipsum-generator/\">adobe plugin</a></div>\\n\\n<hr /><div id=\"translation\">\\n\\n<h3>the standard lorem ipsum passage used since the 1500s</h3><p>\"lorem ipsum dolor sit amet consectetur adipiscing elit sed do eiusmod tempor incididunt ut labore et dolore magna aliqua ut enim ad minim veniam quis nostrud exercitation ullamco laboris nisi ut aliquip ex ea commodo consequat duis aute irure dolor in reprehenderit in voluptate velit esse cillum dolore eu fugiat nulla pariatur excepteur sint occaecat cupidatat non proident sunt in culpa qui officia deserunt mollit anim id est laborum\"</p><h3>section 11032 of \"de finibus bonorum et malorum\" written by cicero in 45 bc</h3><p>\"sed ut perspiciatis unde omnis iste natus error sit voluptatem accusantium doloremque laudantium totam rem aperiam eaque ipsa quae ab illo inventore veritatis et quasi architecto beatae vitae dicta sunt explicabo nemo enim ipsam voluptatem quia voluptas sit aspernatur aut odit aut fugit sed quia consequuntur magni dolores eos qui ratione voluptatem sequi nesciunt neque porro quisquam est qui dolorem ipsum quia dolor sit amet consectetur adipisci velit sed quia non numquam eius modi tempora incidunt ut labore et dolore magnam aliquam quaerat voluptatem ut enim ad minima veniam quis nostrum exercitationem ullam corporis suscipit laboriosam nisi ut aliquid ex ea commodi consequatur? quis autem vel eum iure reprehenderit qui in ea voluptate velit esse quam nihil molestiae consequatur vel illum qui dolorem eum fugiat quo voluptas nulla pariatur?\"</p>\\n<h3>1914 translation by h rackham</h3>\\n<p>\"but i must explain to you how all this mistaken idea of denouncing pleasure and praising pain was born and i will give you a complete account of the system and expound the actual teachings of the great explorer of the truth the master-builder of human happiness no one rejects dislikes or avoids pleasure itself because it is pleasure but because those who do not know how to pursue pleasure rationally encounter consequences that are extremely painful nor again is there anyone who loves or pursues or desires to obtain pain of itself because it is pain but because occasionally circumstances occur in which toil and pain can procure him some great pleasure to take a trivial example which of us ever undertakes laborious physical exercise except to obtain some advantage from it? but who has any right to find fault with a man who chooses to enjoy a pleasure that has no annoying consequences or one who avoids a pain that produces no resultant pleasure?\"</p>\\n<h3>section 11033 of \"de finibus bonorum et malorum\" written by cicero in 45 bc</h3>\\n<p>\"at vero eos et accusamus et iusto odio dignissimos ducimus qui blanditiis praesentium voluptatum deleniti atque corrupti quos dolores et quas molestias excepturi sint occaecati cupiditate non provident similique sunt in culpa qui officia deserunt mollitia animi id est laborum et dolorum fuga et harum quidem rerum facilis est et expedita distinctio nam libero tempore cum soluta nobis est eligendi optio cumque nihil impedit quo minus id quod maxime placeat facere possimus omnis voluptas assumenda est omnis dolor repellendus temporibus autem quibusdam et aut officiis debitis aut rerum necessitatibus saepe eveniet ut et voluptates repudiandae sint et molestiae non recusandae itaque earum rerum hic tenetur a sapiente delectus ut aut reiciendis voluptatibus maiores alias consequatur aut perferendis doloribus asperiores repellat\"</p>\\n<h3>1914 translation by h rackham</h3>\\n<p>\"on the other hand we denounce with righteous indignation and dislike men who are so beguiled and demoralized by the charms of pleasure of the moment so blinded by desire that they cannot foresee the pain and trouble that are bound to ensue; and equal blame belongs to those who fail in their duty through weakness of will which is the same as saying through shrinking from toil and pain these cases are perfectly simple and easy to distinguish in a free hour when our power of choice is untrammelled and when nothing prevents our being able to do what we like best every pleasure is to be welcomed and every pain avoided but in certain circumstances and owing to the claims of duty or the obligations of business it will frequently occur that pleasures have to be repudiated and annoyances accepted the wise man therefore always holds in these matters to this principle of selection: he rejects pleasures to secure other greater pleasures or else he endures pains to avoid worse pains\"</p>\\n</div>\\n\\n<div id=\"bannerl\"><div id=\"div-gpt-ad-1474537762122-2\">\\n<script type=\"text/javascript\">googletagcmdpush(function() { googletagdisplay(\"div-gpt-ad-1474537762122-2\"); });</script>\\n</div></div>\\n<div id=\"bannerr\"><div id=\"div-gpt-ad-1474537762122-3\">\\n<script type=\"text/javascript\">googletagcmdpush(function() { googletagdisplay(\"div-gpt-ad-1474537762122-3\"); });</script>\\n</div></div>\\n</div>\\n\\n<hr />\\n\\n<div class=\"boxed\"><a style=\"text-decoration:none\" href=\"&#109;&#97;&#105;&#108;&#116;&#111;&#58;&#104;&#101;&#108;&#112;&#64;&#108;&#105;&#112;&#115;&#117;&#109;&#46;&#99;&#111;&#109;\">&#104;&#101;&#108;&#112;&#64;&#108;&#105;&#112;&#115;&#117;&#109;&#46;&#99;&#111;&#109;</a><br /><a style=\"text-decoration:none\" target=\"_blank\" href=\"/privacypdf\" />privacy policy</a></div>\\n\\n\\n\\n</div>\\n\\n<div class=\"banner\"><div id=\"div-gpt-ad-1456148316198-1\">\\n<script type=\"text/javascript\">googletagcmdpush(function() { googletagdisplay(\"div-gpt-ad-1456148316198-1\"); });</script>\\n</div></div>\\n\\n</div>\\n\\n<!-- generated in 0014 seconds -->\\n</body></html>']\n",
      "{'bag_of_words': '', 'term_freq': {}}\n"
     ]
    }
   ],
   "source": [
    "# Define doc paths array\n",
    "docs = ['./www.lipsum.com.html']\n",
    "\n",
    "# Obtain BoW from your function\n",
    "bow = get_bow_from_docs(docs)\n",
    "\n",
    "# Print BoW\n",
    "print(bow)"
   ]
  },
  {
   "cell_type": "markdown",
   "metadata": {},
   "source": [
    "If your attempt above is successful, nice work done!\n",
    "\n",
    "Now test your function again with the stop words. In the previous lab we defined the stop words in a large array. In this lab, we'll import the stop words from Scikit-Learn."
   ]
  },
  {
   "cell_type": "code",
   "execution_count": null,
   "metadata": {
    "collapsed": true
   },
   "outputs": [],
   "source": [
    "from sklearn.feature_extraction import stop_words\n",
    "print(stop_words.ENGLISH_STOP_WORDS)"
   ]
  },
  {
   "cell_type": "markdown",
   "metadata": {},
   "source": [
    "You should have seen a large list of words that looks like:\n",
    "\n",
    "```frozenset({'across', 'mine', 'cannot', ...})```\n",
    "\n",
    "`frozenset` is a type of Python object that is immutable. In this lab you can use it just like an array without conversion."
   ]
  },
  {
   "cell_type": "markdown",
   "metadata": {},
   "source": [
    "Next, test your function with supplying `stop_words.ENGLISH_STOP_WORDS` as the second parameter."
   ]
  },
  {
   "cell_type": "code",
   "execution_count": null,
   "metadata": {
    "collapsed": true
   },
   "outputs": [],
   "source": [
    "bow = get_bow_from_docs(docs, stop_words.ENGLISH_STOP_WORDS)\n",
    "\n",
    "print(bow)"
   ]
  },
  {
   "cell_type": "markdown",
   "metadata": {},
   "source": [
    "You should have seen:\n",
    "\n",
    "```{'bag_of_words': ['ironhack', 'cool', 'love', 'student'], 'term_freq': [[1, 1, 0, 0], [1, 0, 1, 0], [1, 0, 0, 1]]}```"
   ]
  },
  {
   "cell_type": "code",
   "execution_count": null,
   "metadata": {
    "collapsed": true
   },
   "outputs": [],
   "source": []
  }
 ],
 "metadata": {
  "kernelspec": {
   "display_name": "Python 3",
   "language": "python",
   "name": "python3"
  },
  "language_info": {
   "codemirror_mode": {
    "name": "ipython",
    "version": 3
   },
   "file_extension": ".py",
   "mimetype": "text/x-python",
   "name": "python",
   "nbconvert_exporter": "python",
   "pygments_lexer": "ipython3",
   "version": "3.7.4"
  }
 },
 "nbformat": 4,
 "nbformat_minor": 2
}
