{
 "cells": [
  {
   "cell_type": "markdown",
   "metadata": {},
   "source": [
    "In the cell below, create a Python function that wraps your previous solution for the Bag of Words lab.\n",
    "\n",
    "Requirements:\n",
    "\n",
    "1. Your function should accept the following parameters:\n",
    "    * `docs` [REQUIRED] - array of document paths.\n",
    "    * `stop_words` [OPTIONAL] - array of stop words. The default value is an empty array.\n",
    "\n",
    "1. Your function should return a Python object that contains the following:\n",
    "    * `bag_of_words` - array of strings of normalized unique words in the corpus.\n",
    "    * `term_freq` - array of the term-frequency vectors."
   ]
  },
  {
   "cell_type": "code",
   "execution_count": 9,
   "metadata": {
    "ExecuteTime": {
     "end_time": "2020-07-05T18:36:11.643291Z",
     "start_time": "2020-07-05T18:36:11.628051Z"
    }
   },
   "outputs": [],
   "source": [
    "# Import required libraries\n",
    "import numpy as np\n",
    "import string\n",
    "\n",
    "# Define function\n",
    "def get_bow_from_docs(docs, stop_words=[]):\n",
    "    \n",
    "    # In the function, first define the variables you will use such as `corpus`, `bag_of_words`, and `term_freq`.\n",
    "    corpus = []\n",
    "    bag_of_words = []\n",
    "    term_freq = []\n",
    "    \n",
    "    \n",
    "    \"\"\"\n",
    "    Loop `docs` and read the content of each doc into a string in `corpus`.\n",
    "    Remember to convert the doc content to lowercases and remove punctuation.\n",
    "    \"\"\"\n",
    "    for doc in docs:\n",
    "        with open(doc, 'r') as file:\n",
    "            corpus.append(file.read().replace('\\n', ''))\n",
    "\n",
    "    # Remove commas and low all the letters\n",
    "    corpus = [ line.replace('.','').lower() for line in corpus]\n",
    "\n",
    "    '''for doc in docs:\n",
    "        #read the content of the file and add it to corpus\n",
    "        file = open(doc,'r')\n",
    "        text= file.read().replace('\\n', '')\n",
    "        \n",
    "        #convert to lowercases\n",
    "        text = text.lower()\n",
    "        \n",
    "        #split into wordy by white space\n",
    "        corpus += text.split()\n",
    "        \n",
    "        #close the file\n",
    "        file.close()\n",
    " \n",
    "      \n",
    "    #remove punctuation from each word\n",
    "    table = str.maketrans('', '', string.punctuation)\n",
    "    corpus = [word.translate(table) for word in corpus] '''\n",
    "    \n",
    "    \n",
    "    \"\"\"\n",
    "    Loop `corpus`. Append the terms in each doc into the `bag_of_words` array. The terms in `bag_of_words` \n",
    "    should be unique which means before adding each term you need to check if it's already added to the array.\n",
    "    In addition, check if each term is in the `stop_words` array. Only append the term to `bag_of_words`\n",
    "    if it is not a stop word.\n",
    "    \"\"\"\n",
    "    \n",
    "    #convert the list with the stop words to a set\n",
    "    stop_words_set = set(stop_words)\n",
    "    \n",
    "    # Fill up the BoW\n",
    "    for line in corpus:\n",
    "        line = line.split()\n",
    "        for word in line:\n",
    "            if (word not in bag_of_words) and (word not in stop_words):\n",
    "                bag_of_words.append(word)\n",
    "    \n",
    "    \n",
    "    \"\"\"\n",
    "    Loop `corpus` again. For each doc string, count the number of occurrences of each term in `bag_of_words`. \n",
    "    Create an array for each doc's term frequency and append it to `term_freq`.\n",
    "    \"\"\"\n",
    "    \n",
    "    for line in corpus:\n",
    "        line = line.split()\n",
    "    \n",
    "        # auxiliar variable\n",
    "        aux = []\n",
    "        \n",
    "        for word in bag_of_words:\n",
    "            aux.append(line.count(word))    \n",
    "        term_freq.append(aux)\n",
    "    \n",
    "    # Now return your output as an object\n",
    "    return {\n",
    "        \"bag_of_words\": bag_of_words,\n",
    "        \"term_freq\": term_freq\n",
    "    }\n",
    "    "
   ]
  },
  {
   "cell_type": "markdown",
   "metadata": {},
   "source": [
    "Test your function without stop words. You should see the output like below:\n",
    "\n",
    "```{'bag_of_words': ['ironhack', 'is', 'cool', 'i', 'love', 'am', 'a', 'student', 'at'], 'term_freq': [[1, 1, 1, 0, 0, 0, 0, 0, 0], [1, 0, 0, 1, 1, 0, 0, 0, 0], [1, 0, 0, 1, 0, 1, 1, 1, 1]]}```"
   ]
  },
  {
   "cell_type": "code",
   "execution_count": 10,
   "metadata": {
    "ExecuteTime": {
     "end_time": "2020-07-05T18:36:12.757873Z",
     "start_time": "2020-07-05T18:36:12.745649Z"
    }
   },
   "outputs": [
    {
     "name": "stdout",
     "output_type": "stream",
     "text": [
      "{'bag_of_words': ['ironhack', 'is', 'cool', 'i', 'love', 'am', 'a', 'student', 'at'], 'term_freq': [[1, 1, 1, 0, 0, 0, 0, 0, 0], [1, 0, 0, 1, 1, 0, 0, 0, 0], [1, 0, 0, 1, 0, 1, 1, 1, 1]]}\n"
     ]
    }
   ],
   "source": [
    "# Define doc paths array\n",
    "docs = ['../../09-lab-string-operations/your-code/doc1.txt', \n",
    "        '../../09-lab-string-operations/your-code/doc2.txt', \n",
    "        '../../09-lab-string-operations/your-code/doc3.txt']\n",
    "\n",
    "# Obtain BoW from your function\n",
    "bow = get_bow_from_docs(docs)\n",
    "\n",
    "# Print BoW\n",
    "print(bow)"
   ]
  },
  {
   "cell_type": "markdown",
   "metadata": {},
   "source": [
    "If your attempt above is successful, nice work done!\n",
    "\n",
    "Now test your function again with the stop words. In the previous lab we defined the stop words in a large array. In this lab, we'll import the stop words from Scikit-Learn."
   ]
  },
  {
   "cell_type": "code",
   "execution_count": 11,
   "metadata": {
    "ExecuteTime": {
     "end_time": "2020-07-05T18:36:26.652362Z",
     "start_time": "2020-07-05T18:36:25.288906Z"
    }
   },
   "outputs": [
    {
     "name": "stdout",
     "output_type": "stream",
     "text": [
      "frozenset({'seeming', 'un', 'beside', 'whereafter', 'please', 'whom', 'see', 'about', 'whether', 'whenever', 'perhaps', 'nowhere', 'were', 'myself', 'what', 'other', 'one', 'forty', 'nothing', 'be', 'was', 'give', 'afterwards', 'thence', 'not', 'amongst', 'no', 'back', 'behind', 'into', 'ltd', 'our', 'besides', 'my', 'whereupon', 'become', 'sincere', 'thus', 'via', 'few', 'inc', 'also', 'still', 'hereby', 'indeed', 'mine', 'twelve', 'will', 'elsewhere', 'it', 'well', 'is', 'who', 'seemed', 'some', 'thin', 'two', 'over', 'detail', 'enough', 'only', 'find', 'thick', 'too', 'among', 'almost', 'here', 'something', 'whither', 'seems', 'by', 'six', 'anything', 'rather', 'ie', 'both', 'toward', 'first', 'up', 'due', 'she', 'ours', 'nor', 'next', 'out', 'never', 'such', 'somewhere', 'thereby', 'couldnt', 'these', 'made', 'etc', 'becoming', 'had', 'than', 'moreover', 'ever', 'cannot', 'became', 'onto', 'any', 'beforehand', 'everywhere', 'go', 'off', 'themselves', 'full', 'nine', 'its', 'alone', 'been', 'from', 'and', 'could', 'i', 'many', 'your', 'found', 'sometimes', 'amount', 'thereafter', 'but', 'anyway', 're', 'would', 'whoever', 'none', 'there', 'to', 'several', 'upon', 'they', 'him', 'if', 'very', 'herein', 'might', 'so', 'me', 'ten', 'get', 'take', 'beyond', 'call', 'the', 'less', 'nobody', 'them', 'wherein', 'put', 'three', 'until', 'again', 'mostly', 'yourselves', 'an', 'everything', 'serious', 'seem', 'amoungst', 'four', 'whereby', 'around', 'eg', 'otherwise', 'each', 'whence', 'before', 'latterly', 'sixty', 'has', 'can', 'her', 'at', 'between', 'with', 'another', 'eight', 'hence', 'along', 'are', 'whole', 'as', 'most', 'because', 'much', 'am', 'cry', 'becomes', 'hereafter', 'when', 'everyone', 'own', 'hundred', 'whose', 'anyone', 'noone', 'neither', 'except', 'he', 'thru', 'which', 'under', 'always', 'once', 'through', 'bill', 'hers', 'per', 'this', 'anyhow', 'describe', 'move', 'anywhere', 'then', 'how', 'namely', 'five', 'latter', 'fifty', 'down', 'below', 'even', 'in', 'yours', 'since', 'former', 'being', 'keep', 'formerly', 'third', 'same', 'without', 'empty', 'last', 'towards', 'hasnt', 'us', 'system', 'top', 'eleven', 'though', 'co', 'we', 'part', 'should', 'already', 'however', 'side', 'while', 'either', 'herself', 'interest', 'have', 'yourself', 'throughout', 'may', 'ourselves', 'hereupon', 'con', 'front', 'of', 'wherever', 'above', 'during', 'others', 'those', 'his', 'you', 'although', 'bottom', 'that', 'yet', 'all', 'within', 'therein', 'further', 'against', 'else', 'nevertheless', 'on', 'somehow', 'fill', 'more', 'fire', 'cant', 'de', 'fifteen', 'whereas', 'mill', 'someone', 'do', 'therefore', 'least', 'their', 'together', 'sometime', 'thereupon', 'done', 'often', 'must', 'after', 'now', 'show', 'across', 'name', 'himself', 'every', 'meanwhile', 'itself', 'or', 'why', 'for', 'whatever', 'a', 'where', 'twenty'})\n"
     ]
    },
    {
     "name": "stderr",
     "output_type": "stream",
     "text": [
      "/Applications/anaconda3/lib/python3.7/site-packages/sklearn/utils/deprecation.py:144: FutureWarning: The sklearn.feature_extraction.stop_words module is  deprecated in version 0.22 and will be removed in version 0.24. The corresponding classes / functions should instead be imported from sklearn.feature_extraction.text. Anything that cannot be imported from sklearn.feature_extraction.text is now part of the private API.\n",
      "  warnings.warn(message, FutureWarning)\n"
     ]
    }
   ],
   "source": [
    "from sklearn.feature_extraction import stop_words\n",
    "print(stop_words.ENGLISH_STOP_WORDS)"
   ]
  },
  {
   "cell_type": "markdown",
   "metadata": {},
   "source": [
    "You should have seen a large list of words that looks like:\n",
    "\n",
    "```frozenset({'across', 'mine', 'cannot', ...})```\n",
    "\n",
    "`frozenset` is a type of Python object that is immutable. In this lab you can use it just like an array without conversion."
   ]
  },
  {
   "cell_type": "markdown",
   "metadata": {},
   "source": [
    "Next, test your function with supplying `stop_words.ENGLISH_STOP_WORDS` as the second parameter."
   ]
  },
  {
   "cell_type": "code",
   "execution_count": 12,
   "metadata": {
    "ExecuteTime": {
     "end_time": "2020-07-05T18:36:44.490986Z",
     "start_time": "2020-07-05T18:36:44.480610Z"
    }
   },
   "outputs": [
    {
     "name": "stdout",
     "output_type": "stream",
     "text": [
      "{'bag_of_words': ['ironhack', 'cool', 'love', 'student'], 'term_freq': [[1, 1, 0, 0], [1, 0, 1, 0], [1, 0, 0, 1]]}\n"
     ]
    }
   ],
   "source": [
    "bow = get_bow_from_docs(docs, stop_words.ENGLISH_STOP_WORDS)\n",
    "\n",
    "print(bow)"
   ]
  },
  {
   "cell_type": "markdown",
   "metadata": {},
   "source": [
    "You should have seen:\n",
    "\n",
    "```{'bag_of_words': ['ironhack', 'cool', 'love', 'student'], 'term_freq': [[1, 1, 0, 0], [1, 0, 1, 0], [1, 0, 0, 1]]}```"
   ]
  },
  {
   "cell_type": "code",
   "execution_count": null,
   "metadata": {
    "collapsed": true
   },
   "outputs": [],
   "source": []
  }
 ],
 "metadata": {
  "kernelspec": {
   "display_name": "Python 3",
   "language": "python",
   "name": "python3"
  },
  "language_info": {
   "codemirror_mode": {
    "name": "ipython",
    "version": 3
   },
   "file_extension": ".py",
   "mimetype": "text/x-python",
   "name": "python",
   "nbconvert_exporter": "python",
   "pygments_lexer": "ipython3",
   "version": "3.7.6"
  },
  "toc": {
   "base_numbering": 1,
   "nav_menu": {},
   "number_sections": true,
   "sideBar": true,
   "skip_h1_title": false,
   "title_cell": "Table of Contents",
   "title_sidebar": "Contents",
   "toc_cell": false,
   "toc_position": {},
   "toc_section_display": true,
   "toc_window_display": false
  },
  "varInspector": {
   "cols": {
    "lenName": 16,
    "lenType": 16,
    "lenVar": 40
   },
   "kernels_config": {
    "python": {
     "delete_cmd_postfix": "",
     "delete_cmd_prefix": "del ",
     "library": "var_list.py",
     "varRefreshCmd": "print(var_dic_list())"
    },
    "r": {
     "delete_cmd_postfix": ") ",
     "delete_cmd_prefix": "rm(",
     "library": "var_list.r",
     "varRefreshCmd": "cat(var_dic_list()) "
    }
   },
   "types_to_exclude": [
    "module",
    "function",
    "builtin_function_or_method",
    "instance",
    "_Feature"
   ],
   "window_display": false
  }
 },
 "nbformat": 4,
 "nbformat_minor": 2
}
