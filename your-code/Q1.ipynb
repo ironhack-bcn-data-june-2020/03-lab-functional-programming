{
 "cells": [
  {
   "cell_type": "markdown",
   "metadata": {},
   "source": [
    "In the cell below, create a Python function that wraps your previous solution for the Bag of Words lab.\n",
    "\n",
    "Requirements:\n",
    "\n",
    "1. Your function should accept the following parameters:\n",
    "    * `docs` [REQUIRED] - array of document paths.\n",
    "    * `stop_words` [OPTIONAL] - array of stop words. The default value is an empty array.\n",
    "\n",
    "1. Your function should return a Python object that contains the following:\n",
    "    * `bag_of_words` - array of strings of normalized unique words in the corpus.\n",
    "    * `term_freq` - array of the term-frequency vectors."
   ]
  },
  {
   "cell_type": "code",
   "execution_count": 25,
   "metadata": {},
   "outputs": [],
   "source": [
    "# Import required libraries\n",
    "\n",
    "docs = ['doc1.txt', 'doc2.txt', 'doc3.txt']\n",
    "\n",
    "# Define function\n",
    "def get_bow_from_docs(docs, stop_words=[]):\n",
    "    \n",
    "    # In the function, first define the variables you will use such as `corpus`, `bag_of_words`, and `term_freq`.\n",
    "    corpus = []\n",
    "    bag_of_words = []\n",
    "    term_freq = []\n",
    "    \n",
    "    \n",
    "    \"\"\"\n",
    "    Loop `docs` and read the content of each doc into a string in `corpus`.\n",
    "    Remember to convert the doc content to lowercases and remove punctuation.\n",
    "    \"\"\"\n",
    "    for i in docs:\n",
    "        with open(i, 'r') as alldocs:\n",
    "              corpus.append(alldocs.read())\n",
    "    corpus = [ i.replace('.','').lower() for i in corpus]\n",
    "    \n",
    "    \n",
    "    \"\"\"\n",
    "    Loop `corpus`. Append the terms in each doc into the `bag_of_words` array. The terms in `bag_of_words` \n",
    "    should be unique which means before adding each term you need to check if it's already added to the array.\n",
    "    In addition, check if each term is in the `stop_words` array. Only append the term to `bag_of_words`\n",
    "    if it is not a stop word.\n",
    "    \"\"\"\n",
    "    for line in corpus:\n",
    "        line = line.split()\n",
    "        for word in line:\n",
    "            if word not in (bag_of_words) and word not in (stop_words):\n",
    "                bag_of_words.append(word)\n",
    "    \n",
    "    \n",
    "    \"\"\"\n",
    "    Loop `corpus` again. For each doc string, count the number of occurrences of each term in `bag_of_words`. \n",
    "    Create an array for each doc's term frequency and append it to `term_freq`.\n",
    "    \"\"\"\n",
    "\n",
    "    for line in corpus:\n",
    "        line = line.split()\n",
    "        for word in bag_of_words:\n",
    "            term_freq.append(line.count(word))\n",
    "    \n",
    "    # Now return your output as an object\n",
    "    return {\n",
    "        \"bag_of_words\": bag_of_words,\n",
    "        \"term_freq\": term_freq\n",
    "    }\n",
    "    "
   ]
  },
  {
   "cell_type": "markdown",
   "metadata": {},
   "source": [
    "\n",
    "Test your function without stop words. You should see the output like below:\n",
    "\n",
    "```{'bag_of_words': ['ironhack', 'is', 'cool', 'i', 'love', 'am', 'a', 'student', 'at'], 'term_freq': [[1, 1, 1, 0, 0, 0, 0, 0, 0], [1, 0, 0, 1, 1, 0, 0, 0, 0], [1, 0, 0, 1, 0, 1, 1, 1, 1]]}```"
   ]
  },
  {
   "cell_type": "code",
   "execution_count": 26,
   "metadata": {},
   "outputs": [
    {
     "name": "stdout",
     "output_type": "stream",
     "text": [
      "{'bag_of_words': ['ironhack', 'is', 'cool', 'i', 'love', 'am', 'a', 'student', 'at'], 'term_freq': [1, 1, 1, 0, 0, 0, 0, 0, 0, 1, 0, 0, 1, 1, 0, 0, 0, 0, 1, 0, 0, 1, 0, 1, 1, 1, 1]}\n"
     ]
    }
   ],
   "source": [
    "# Define doc paths array\n",
    "docs = ['doc1.txt', 'doc2.txt', 'doc3.txt']\n",
    "\n",
    "# Obtain BoW from your function\n",
    "bow = get_bow_from_docs(docs)\n",
    "\n",
    "# Print BoW\n",
    "print(bow)"
   ]
  },
  {
   "cell_type": "markdown",
   "metadata": {},
   "source": [
    "If your attempt above is successful, nice work done!\n",
    "\n",
    "Now test your function again with the stop words. In the previous lab we defined the stop words in a large array. In this lab, we'll import the stop words from Scikit-Learn."
   ]
  },
  {
   "cell_type": "code",
   "execution_count": 22,
   "metadata": {},
   "outputs": [
    {
     "name": "stdout",
     "output_type": "stream",
     "text": [
      "frozenset({'anything', 'hers', 'onto', 'so', 'become', 'all', 'many', 'on', 'but', 'whenever', 'nothing', 'hence', 'thru', 'alone', 'show', 'sincere', 'if', 'sometimes', 'myself', 'former', 'seem', 'we', 'three', 'eight', 'serious', 'otherwise', 'less', 'our', 'wherein', 'being', 'can', 'full', 'system', 'nevertheless', 'under', 'himself', 'every', 'are', 'wherever', 'whatever', 'these', 'here', 'down', 'what', 'has', 'except', 'again', 'besides', 'perhaps', 'get', 'throughout', 'behind', 'ten', 'namely', 'while', 'eleven', 'beyond', 'this', 'thus', 'thereafter', 'very', 'call', 'thereby', 'anywhere', 'among', 'hundred', 'itself', 'inc', 'the', 'is', 'that', 'you', 'back', 'at', 'became', 'after', 'seeming', 'upon', 'amoungst', 'each', 'because', 'one', 'fifty', 'third', 'found', 'towards', 'whose', 'been', 'may', 'last', 'more', 'via', 'before', 'go', 'out', 'cant', 'beside', 'up', 'ever', 'once', 'ours', 'where', 'beforehand', 'had', 'even', 'him', 'four', 'us', 'through', 'cry', 'either', 'seemed', 'her', 'six', 'always', 'keep', 'why', 'several', 'an', 'no', 'part', 'something', 'bill', 'whereby', 'describe', 'move', 'there', 'next', 'also', 'between', 'do', 'against', 'in', 'well', 'give', 'hereupon', 'be', 'thick', 'cannot', 'nowhere', 'since', 'another', 'everyone', 'across', 'enough', 'herein', 'whereupon', 'top', 'due', 'though', 'into', 'mine', 'few', 'anyway', 'whoever', 'yours', 'side', 'take', 'to', 'he', 'whereas', 'two', 'somehow', 'often', 'it', 'nor', 'off', 'hereby', 'someone', 'sixty', 'latterly', 'when', 'and', 'amongst', 'name', 'any', 'same', 'anyhow', 'its', 'forty', 'then', 'only', 'thence', 'whither', 'me', 'somewhere', 'a', 'fill', 'should', 'therefore', 'them', 'have', 'ie', 'his', 'moreover', 'however', 'around', 'yourself', 'during', 'much', 'both', 'hasnt', 'etc', 'everything', 'by', 'still', 'whether', 'herself', 'yet', 'were', 'least', 'bottom', 'whom', 'from', 'twenty', 'over', 'fire', 'detail', 'not', 'whereafter', 'which', 'hereafter', 'elsewhere', 'with', 're', 'five', 'con', 'interest', 'thereupon', 'i', 'neither', 'toward', 'done', 'must', 'thin', 'afterwards', 'was', 'becoming', 'above', 'co', 'un', 'yourselves', 'might', 'would', 'they', 'about', 'amount', 'latter', 'within', 'than', 'ourselves', 'those', 'or', 'other', 'whence', 'front', 'mill', 'how', 'my', 'she', 'find', 'meanwhile', 'indeed', 'put', 'until', 'others', 'ltd', 'de', 'everywhere', 'please', 'first', 'their', 'made', 'rather', 'anyone', 'nine', 'formerly', 'some', 'could', 'eg', 'none', 'seems', 'without', 'whole', 'sometime', 'per', 'will', 'mostly', 'else', 'who', 'of', 'themselves', 'therein', 'together', 'becomes', 'empty', 'your', 'see', 'such', 'further', 'never', 'twelve', 'am', 'nobody', 'fifteen', 'own', 'now', 'noone', 'although', 'along', 'for', 'most', 'almost', 'already', 'below', 'couldnt', 'too', 'as'})\n"
     ]
    }
   ],
   "source": [
    "from sklearn.feature_extraction import stop_words\n",
    "print(stop_words.ENGLISH_STOP_WORDS)"
   ]
  },
  {
   "cell_type": "markdown",
   "metadata": {},
   "source": [
    "You should have seen a large list of words that looks like:\n",
    "\n",
    "```frozenset({'across', 'mine', 'cannot', ...})```\n",
    "\n",
    "`frozenset` is a type of Python object that is immutable. In this lab you can use it just like an array without conversion."
   ]
  },
  {
   "cell_type": "markdown",
   "metadata": {},
   "source": [
    "Next, test your function with supplying `stop_words.ENGLISH_STOP_WORDS` as the second parameter."
   ]
  },
  {
   "cell_type": "code",
   "execution_count": 27,
   "metadata": {},
   "outputs": [
    {
     "name": "stdout",
     "output_type": "stream",
     "text": [
      "{'bag_of_words': ['ironhack', 'cool', 'love', 'student'], 'term_freq': [1, 1, 0, 0, 1, 0, 1, 0, 1, 0, 0, 1]}\n"
     ]
    }
   ],
   "source": [
    "bow = get_bow_from_docs(docs, stop_words.ENGLISH_STOP_WORDS)\n",
    "\n",
    "print(bow)"
   ]
  },
  {
   "cell_type": "markdown",
   "metadata": {},
   "source": [
    "You should have seen:\n",
    "\n",
    "```{'bag_of_words': ['ironhack', 'cool', 'love', 'student'], 'term_freq': [[1, 1, 0, 0], [1, 0, 1, 0], [1, 0, 0, 1]]}```"
   ]
  }
 ],
 "metadata": {
  "kernelspec": {
   "display_name": "Python 3",
   "language": "python",
   "name": "python3"
  },
  "language_info": {
   "codemirror_mode": {
    "name": "ipython",
    "version": 3
   },
   "file_extension": ".py",
   "mimetype": "text/x-python",
   "name": "python",
   "nbconvert_exporter": "python",
   "pygments_lexer": "ipython3",
   "version": "3.7.6"
  },
  "toc": {
   "base_numbering": 1,
   "nav_menu": {},
   "number_sections": true,
   "sideBar": true,
   "skip_h1_title": false,
   "title_cell": "Table of Contents",
   "title_sidebar": "Contents",
   "toc_cell": false,
   "toc_position": {},
   "toc_section_display": true,
   "toc_window_display": false
  }
 },
 "nbformat": 4,
 "nbformat_minor": 2
}
