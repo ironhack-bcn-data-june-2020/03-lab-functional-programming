{
 "cells": [
  {
   "cell_type": "code",
   "execution_count": 3,
   "metadata": {},
   "outputs": [],
   "source": [
    "alberto = {\n",
    "\"name\": \"Alberto\",\n",
    "\"age\": 25,\n",
    "\"city\": \"Pamplona\" }\n",
    "\n",
    "juan = {\n",
    "\"name\": \"Ana\",\n",
    "\"age\": 28,\n",
    "\"city\": \"Madrid\" }\n",
    "\n",
    "contacts = [alberto, juan]"
   ]
  },
  {
   "cell_type": "code",
   "execution_count": 4,
   "metadata": {},
   "outputs": [],
   "source": [
    "import json\n",
    "data_string = json.dumps(contacts)"
   ]
  },
  {
   "cell_type": "code",
   "execution_count": 5,
   "metadata": {},
   "outputs": [
    {
     "name": "stdout",
     "output_type": "stream",
     "text": [
      "[WinError 3] El sistema no puede encontrar la ruta especificada: \"'/c/Users/Álvaro/Downloads/notebooks_books.xml at master · ironhack-bcn-data-june-2020_notebooks.html'\"\n",
      "C:\\Users\\Álvaro\\04-lab-functional-programming\\your-code\n"
     ]
    }
   ],
   "source": [
    "cd '/c/Users/Álvaro/Downloads/notebooks_books.xml at master · ironhack-bcn-data-june-2020_notebooks.html'\n"
   ]
  },
  {
   "cell_type": "code",
   "execution_count": null,
   "metadata": {},
   "outputs": [],
   "source": []
  }
 ],
 "metadata": {
  "kernelspec": {
   "display_name": "Python 3",
   "language": "python",
   "name": "python3"
  },
  "language_info": {
   "codemirror_mode": {
    "name": "ipython",
    "version": 3
   },
   "file_extension": ".py",
   "mimetype": "text/x-python",
   "name": "python",
   "nbconvert_exporter": "python",
   "pygments_lexer": "ipython3",
   "version": "3.7.6"
  }
 },
 "nbformat": 4,
 "nbformat_minor": 4
}
